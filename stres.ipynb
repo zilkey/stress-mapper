{
 "cells": [
  {
   "cell_type": "code",
   "execution_count": 41,
   "metadata": {},
   "outputs": [],
   "source": [
    "import re\n",
    "import json\n",
    "\n",
    "stress = {\n",
    "    '0': 'da',\n",
    "    '1': 'DUM',\n",
    "    '2': 'da',\n",
    "}\n",
    "\n",
    "result = {}\n",
    "i = 0\n",
    "with open(\"cmudict-0.7b.txt\") as f:\n",
    "    for line in f:\n",
    "        if line[:3] == ';;;':\n",
    "            continue\n",
    "        # if i > 220:\n",
    "        #     break\n",
    "        word, pronunciation = line.split(\" \", 1)\n",
    "        syllables = pronunciation.strip()\n",
    "        syllables = re.findall(r\"([A-Z]+\\d)\", syllables)\n",
    "        result[word] = \" \".join(stress[group[-1]] for group in syllables)\n",
    "        i += 1\n",
    "\n",
    "with open(\"word-mapper/src/da-dums.json\", \"w\") as f:\n",
    "    json.dump(result, f)\n",
    "\n",
    "# result"
   ]
  }
 ],
 "metadata": {
  "kernelspec": {
   "display_name": "Python 3",
   "language": "python",
   "name": "python3"
  },
  "language_info": {
   "codemirror_mode": {
    "name": "ipython",
    "version": 3
   },
   "file_extension": ".py",
   "mimetype": "text/x-python",
   "name": "python",
   "nbconvert_exporter": "python",
   "pygments_lexer": "ipython3",
   "version": "3.11.2"
  },
  "orig_nbformat": 4,
  "vscode": {
   "interpreter": {
    "hash": "29f1e52c0d8d5e5ede6aaca4be8238d35b46afd62a3b8286547e2768de775769"
   }
  }
 },
 "nbformat": 4,
 "nbformat_minor": 2
}
